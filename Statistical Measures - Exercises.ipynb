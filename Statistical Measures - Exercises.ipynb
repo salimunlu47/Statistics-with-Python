{
 "cells": [
  {
   "cell_type": "markdown",
   "metadata": {},
   "source": [
    "# EXERCISE-1"
   ]
  },
  {
   "cell_type": "code",
   "execution_count": 1,
   "metadata": {},
   "outputs": [
    {
     "name": "stdout",
     "output_type": "stream",
     "text": [
      "mean: 14.066666666666666\n",
      "median: 15.0\n",
      "mode: ModeResult(mode=array([15]), count=array([5]))\n"
     ]
    }
   ],
   "source": [
    "import numpy as np\n",
    "from scipy import stats\n",
    "\n",
    "hours = [16, 15, 12, 15, 10, 16, 16, 15, 15, 15, 12, 18, 12, 14, 10]\n",
    "\n",
    "mean = np.mean(hours)\n",
    "print(\"mean:\", mean)\n",
    "\n",
    "median = np.median(hours)\n",
    "print(\"median:\", median)\n",
    "\n",
    "mode = stats.mode(hours)\n",
    "print(\"mode:\", mode)"
   ]
  },
  {
   "cell_type": "markdown",
   "metadata": {},
   "source": [
    "# EXERCISE-2"
   ]
  },
  {
   "cell_type": "code",
   "execution_count": 2,
   "metadata": {
    "scrolled": true
   },
   "outputs": [
    {
     "name": "stdout",
     "output_type": "stream",
     "text": [
      "Mean:  7.625\n",
      "Variance:  3.984375\n",
      "Std:  1.996089927833914\n"
     ]
    }
   ],
   "source": [
    "import numpy as np\n",
    "\n",
    "a = [10, 9, 7, 9, 8, 9, 5, 4]\n",
    "\n",
    "print(\"Mean: \", np.mean(a))\n",
    "\n",
    "print(\"Variance: \", (np.var(a)))\n",
    "\n",
    "print(\"Std: \", (np.std(a)))"
   ]
  },
  {
   "cell_type": "markdown",
   "metadata": {},
   "source": [
    "# EXERCISE-3"
   ]
  },
  {
   "cell_type": "code",
   "execution_count": 3,
   "metadata": {},
   "outputs": [
    {
     "name": "stdout",
     "output_type": "stream",
     "text": [
      "mean: 94.73076923076923\n",
      "median: 90.0\n",
      "mode: ModeResult(mode=array([85]), count=array([6]))\n",
      "Range:  50\n",
      "IQR: 20.0\n",
      "Variance:  204.50443786982248\n",
      "Std:  14.300504811712853\n"
     ]
    }
   ],
   "source": [
    "salary = [120, 80, 85, 85, 80, 83, 100, 105, 105, 85, 75, 125, 120, 105, 85, 80, 95, 90, 95, 85, 80, 85, 120, 100, 105, 90]\n",
    "\n",
    "mean = np.mean(salary)\n",
    "print(\"mean:\", mean)\n",
    "\n",
    "median = np.median(salary)\n",
    "print(\"median:\", median)\n",
    "\n",
    "mode = stats.mode(salary)\n",
    "print(\"mode:\", mode)\n",
    "\n",
    "print(\"Range: \", (np.max(salary)-np.min(salary)))\n",
    "\n",
    "q75, q25 = np.percentile(salary, [75 ,25])\n",
    "print(\"IQR:\", (q75 - q25))\n",
    "\n",
    "print(\"Variance: \", (np.var(salary)))\n",
    "\n",
    "print(\"Std: \", (np.std(salary)))"
   ]
  },
  {
   "cell_type": "code",
   "execution_count": null,
   "metadata": {},
   "outputs": [],
   "source": []
  }
 ],
 "metadata": {
  "kernelspec": {
   "display_name": "Python 3",
   "language": "python",
   "name": "python3"
  },
  "language_info": {
   "codemirror_mode": {
    "name": "ipython",
    "version": 3
   },
   "file_extension": ".py",
   "mimetype": "text/x-python",
   "name": "python",
   "nbconvert_exporter": "python",
   "pygments_lexer": "ipython3",
   "version": "3.7.4"
  }
 },
 "nbformat": 4,
 "nbformat_minor": 2
}
