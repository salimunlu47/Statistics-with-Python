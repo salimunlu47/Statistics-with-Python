{
 "cells": [
  {
   "cell_type": "code",
   "execution_count": 143,
   "metadata": {},
   "outputs": [
    {
     "name": "stdout",
     "output_type": "stream",
     "text": [
      "T\n"
     ]
    }
   ],
   "source": [
    "import random\n",
    "\n",
    "coin = ('H','T')\n",
    "print (random.choice(coin))"
   ]
  },
  {
   "cell_type": "code",
   "execution_count": 156,
   "metadata": {},
   "outputs": [
    {
     "name": "stdout",
     "output_type": "stream",
     "text": [
      "P(Heads): 0.5066\n",
      "P(Tails): 0.4934\n"
     ]
    }
   ],
   "source": [
    "results = {\n",
    "    'H': 0,\n",
    "    'T': 0,\n",
    "}\n",
    "\n",
    "for i in range(5000):\n",
    "    results[random.choice(list(results.keys()))] += 1\n",
    "\n",
    "print('P(Heads):', results['H']/sum(results.values()))\n",
    "print('P(Tails):', results['T']/sum(results.values()))"
   ]
  },
  {
   "cell_type": "code",
   "execution_count": 148,
   "metadata": {},
   "outputs": [
    {
     "data": {
      "text/plain": [
       "100"
      ]
     },
     "execution_count": 148,
     "metadata": {},
     "output_type": "execute_result"
    }
   ],
   "source": [
    "sum(results.values())"
   ]
  },
  {
   "cell_type": "markdown",
   "metadata": {},
   "source": [
    "## Roll 2 dice"
   ]
  },
  {
   "cell_type": "code",
   "execution_count": 161,
   "metadata": {},
   "outputs": [],
   "source": [
    "import numpy as np\n",
    "import seaborn as sns\n",
    "import matplotlib.pyplot as plt\n",
    "\n",
    "np.random.seed(51)\n",
    "\n",
    "d1 = np.array([1, 2, 3, 4, 5, 6])\n",
    "d2 = np.array([1, 2, 3, 4, 5, 6])\n",
    "\n",
    "dice_1 = []\n",
    "dice_2 = []\n",
    "\n",
    "sums = []\n",
    "\n",
    "for i in range(100):\n",
    "  roll_1 = np.random.choice(d1)\n",
    "  roll_2 = np.random.choice(d2)\n",
    "  dice_1.append(roll_1)\n",
    "  dice_2.append(roll_2)\n",
    "  sums.append(roll_1 + roll_2)"
   ]
  },
  {
   "cell_type": "code",
   "execution_count": 162,
   "metadata": {},
   "outputs": [
    {
     "data": {
      "text/plain": [
       "<matplotlib.axes._subplots.AxesSubplot at 0x28839dc7548>"
      ]
     },
     "execution_count": 162,
     "metadata": {},
     "output_type": "execute_result"
    },
    {
     "data": {
      "image/png": "[encoded data removed]",
      "text/plain": [
       "<Figure size 864x288 with 2 Axes>"
      ]
     },
     "metadata": {
      "needs_background": "light"
     },
     "output_type": "display_data"
    }
   ],
   "source": [
    "fig, (ax1, ax2) = plt.subplots(ncols=2, sharey=True, figsize=(12,4))\n",
    "sns.countplot(dice_1, ax=ax1)\n",
    "sns.countplot(dice_2, ax=ax2)"
   ]
  },
  {
   "cell_type": "code",
   "execution_count": 163,
   "metadata": {},
   "outputs": [
    {
     "data": {
      "text/plain": [
       "<matplotlib.axes._subplots.AxesSubplot at 0x28839e2dcc8>"
      ]
     },
     "execution_count": 163,
     "metadata": {},
     "output_type": "execute_result"
    },
    {
     "data": {
      "image/png": "[encoded data removed]",
      "text/plain": [
       "<Figure size 432x288 with 1 Axes>"
      ]
     },
     "metadata": {
      "needs_background": "light"
     },
     "output_type": "display_data"
    }
   ],
   "source": [
    "sns.countplot(sums)"
   ]
  },
  {
   "cell_type": "code",
   "execution_count": 164,
   "metadata": {
    "scrolled": true
   },
   "outputs": [
    {
     "data": {
      "text/plain": [
       "0.19"
      ]
     },
     "execution_count": 164,
     "metadata": {},
     "output_type": "execute_result"
    }
   ],
   "source": [
    "sums.count(8)/len(sums)"
   ]
  },
  {
   "cell_type": "code",
   "execution_count": 172,
   "metadata": {},
   "outputs": [
    {
     "name": "stdout",
     "output_type": "stream",
     "text": [
      "P(2): 0.030\n",
      "P(3): 0.020\n",
      "P(4): 0.080\n",
      "P(5): 0.070\n",
      "P(6): 0.070\n",
      "P(7): 0.150\n",
      "P(8): 0.190\n",
      "P(9): 0.150\n",
      "P(10): 0.120\n",
      "P(11): 0.100\n",
      "P(12): 0.020\n"
     ]
    }
   ],
   "source": [
    "for i in set(sums):\n",
    "    print(\"P(%d): %.3f\" % (i, sums.count(i)/len(sums)))\n",
    "    #print('P(',i,'): ', sums.count(i)/len(sums))"
   ]
  },
  {
   "cell_type": "markdown",
   "metadata": {},
   "source": [
    "# Combinatoric generators"
   ]
  },
  {
   "cell_type": "markdown",
   "metadata": {},
   "source": [
    "## Product"
   ]
  },
  {
   "cell_type": "code",
   "execution_count": 19,
   "metadata": {},
   "outputs": [],
   "source": [
    "import itertools as it"
   ]
  },
  {
   "cell_type": "code",
   "execution_count": 36,
   "metadata": {},
   "outputs": [
    {
     "name": "stdout",
     "output_type": "stream",
     "text": [
      "The cartesian product using repeat:\n",
      "[('1', '1'), ('1', '2'), ('1', '3'), ('1', '4'), ('1', '5'), ('1', '6'), ('2', '1'), ('2', '2'), ('2', '3'), ('2', '4'), ('2', '5'), ('2', '6'), ('3', '1'), ('3', '2'), ('3', '3'), ('3', '4'), ('3', '5'), ('3', '6'), ('4', '1'), ('4', '2'), ('4', '3'), ('4', '4'), ('4', '5'), ('4', '6'), ('5', '1'), ('5', '2'), ('5', '3'), ('5', '4'), ('5', '5'), ('5', '6'), ('6', '1'), ('6', '2'), ('6', '3'), ('6', '4'), ('6', '5'), ('6', '6')]\n",
      "\n",
      "How many possible output?\n",
      "36\n"
     ]
    }
   ],
   "source": [
    "cp = list(it.product('123456', repeat=2))\n",
    "\n",
    "print(\"The cartesian product using repeat:\") #cartesian product, equivalent to a nested for-loop\n",
    "print(cp)\n",
    "print()\n",
    "print(\"How many possible output?\")\n",
    "print(len(cp))"
   ]
  },
  {
   "cell_type": "code",
   "execution_count": 42,
   "metadata": {},
   "outputs": [
    {
     "name": "stdout",
     "output_type": "stream",
     "text": [
      "The cartesian product of the containers:\n",
      "[('1', 'H'), ('1', 'T'), ('2', 'H'), ('2', 'T'), ('3', 'H'), ('3', 'T'), ('4', 'H'), ('4', 'T'), ('5', 'H'), ('5', 'T'), ('6', 'H'), ('6', 'T')]\n",
      "\n",
      "How many possible output?\n",
      "12\n"
     ]
    }
   ],
   "source": [
    "cp2=list(it.product('123456', ['H', 'T']))\n",
    "print(\"The cartesian product of the containers:\")  \n",
    "print(cp2) \n",
    "print()\n",
    "print(\"How many possible output?\")\n",
    "print(len(cp2))"
   ]
  },
  {
   "cell_type": "markdown",
   "metadata": {},
   "source": [
    "## Permutation"
   ]
  },
  {
   "cell_type": "markdown",
   "metadata": {},
   "source": [
    "### Possible Orders"
   ]
  },
  {
   "cell_type": "code",
   "execution_count": 49,
   "metadata": {},
   "outputs": [
    {
     "data": {
      "text/plain": [
       "24"
      ]
     },
     "execution_count": 49,
     "metadata": {},
     "output_type": "execute_result"
    }
   ],
   "source": [
    "import math\n",
    "\n",
    "math.factorial(4)"
   ]
  },
  {
   "cell_type": "code",
   "execution_count": 121,
   "metadata": {},
   "outputs": [],
   "source": [
    "def permutation(n, r):\n",
    "    return (math.factorial(n)/math.factorial(n - r))"
   ]
  },
  {
   "cell_type": "code",
   "execution_count": 122,
   "metadata": {},
   "outputs": [
    {
     "data": {
      "text/plain": [
       "12.0"
      ]
     },
     "execution_count": 122,
     "metadata": {},
     "output_type": "execute_result"
    }
   ],
   "source": [
    "permutation(4, 2)"
   ]
  },
  {
   "cell_type": "code",
   "execution_count": 65,
   "metadata": {},
   "outputs": [
    {
     "name": "stdout",
     "output_type": "stream",
     "text": [
      "('G', 'Y')\n",
      "('G', 'R')\n",
      "('G', 'B')\n",
      "('Y', 'G')\n",
      "('Y', 'R')\n",
      "('Y', 'B')\n",
      "('R', 'G')\n",
      "('R', 'Y')\n",
      "('R', 'B')\n",
      "('B', 'G')\n",
      "('B', 'Y')\n",
      "('B', 'R')\n"
     ]
    }
   ],
   "source": [
    "# Get all permutations of 'GYRB'\n",
    "perm = it.permutations('GYRB', 2) \n",
    "\n",
    "# Print the obtained permutations \n",
    "for i in list(perm): \n",
    "    print(i)"
   ]
  },
  {
   "cell_type": "markdown",
   "metadata": {},
   "source": [
    "## Combination"
   ]
  },
  {
   "cell_type": "code",
   "execution_count": 125,
   "metadata": {},
   "outputs": [],
   "source": [
    "def combination(n, r):\n",
    "    return (math.factorial(n)/(math.factorial(r) * math.factorial(n - r)))"
   ]
  },
  {
   "cell_type": "code",
   "execution_count": 126,
   "metadata": {},
   "outputs": [
    {
     "data": {
      "text/plain": [
       "6.0"
      ]
     },
     "execution_count": 126,
     "metadata": {},
     "output_type": "execute_result"
    }
   ],
   "source": [
    "combination(4, 2)"
   ]
  },
  {
   "cell_type": "code",
   "execution_count": 127,
   "metadata": {},
   "outputs": [
    {
     "name": "stdout",
     "output_type": "stream",
     "text": [
      "('G', 'Y')\n",
      "('G', 'R')\n",
      "('G', 'B')\n",
      "('Y', 'R')\n",
      "('Y', 'B')\n",
      "('R', 'B')\n"
     ]
    }
   ],
   "source": [
    "# Get all combinations of 'GYRB'\n",
    "# and length 2 \n",
    "comb = it.combinations('GYRB', 2) \n",
    "  \n",
    "# Print the obtained combinations \n",
    "for i in list(comb): \n",
    "    print(i)"
   ]
  },
  {
   "cell_type": "markdown",
   "metadata": {},
   "source": [
    "Elements are treated as unique based on their position, not on their value. So if the input elements are unique, there will be no repeat values in each combination."
   ]
  },
  {
   "cell_type": "code",
   "execution_count": 72,
   "metadata": {},
   "outputs": [
    {
     "name": "stdout",
     "output_type": "stream",
     "text": [
      "('G', 'G')\n",
      "('G', 'R')\n",
      "('G', 'R')\n",
      "('G', 'R')\n",
      "('G', 'R')\n",
      "('R', 'R')\n"
     ]
    }
   ],
   "source": [
    "# Get all combinations of 'GGRR'\n",
    "# and length 2 \n",
    "comb = it.combinations('GGRR', 2) \n",
    "  \n",
    "# Print the obtained combinations \n",
    "for i in list(comb): \n",
    "    print (i) "
   ]
  },
  {
   "cell_type": "markdown",
   "metadata": {},
   "source": [
    "If we want to make combination of same element to same element then we use combinations_with_replacement."
   ]
  },
  {
   "cell_type": "code",
   "execution_count": 73,
   "metadata": {},
   "outputs": [
    {
     "name": "stdout",
     "output_type": "stream",
     "text": [
      "('G', 'G')\n",
      "('G', 'G')\n",
      "('G', 'R')\n",
      "('G', 'R')\n",
      "('G', 'G')\n",
      "('G', 'R')\n",
      "('G', 'R')\n",
      "('R', 'R')\n",
      "('R', 'R')\n",
      "('R', 'R')\n"
     ]
    }
   ],
   "source": [
    "# Get all combinations of 'GGRB'\n",
    "# and length 2 \n",
    "comb = it.combinations_with_replacement('GGRR', 2) \n",
    "  \n",
    "# Print the obtained combinations \n",
    "for i in list(comb): \n",
    "    print (i) "
   ]
  },
  {
   "cell_type": "code",
   "execution_count": null,
   "metadata": {},
   "outputs": [],
   "source": []
  }
 ],
 "metadata": {
  "kernelspec": {
   "display_name": "Python 3",
   "language": "python",
   "name": "python3"
  },
  "language_info": {
   "codemirror_mode": {
    "name": "ipython",
    "version": 3
   },
   "file_extension": ".py",
   "mimetype": "text/x-python",
   "name": "python",
   "nbconvert_exporter": "python",
   "pygments_lexer": "ipython3",
   "version": "3.7.4"
  }
 },
 "nbformat": 4,
 "nbformat_minor": 2
}
